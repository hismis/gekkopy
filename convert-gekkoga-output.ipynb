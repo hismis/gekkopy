{
 "cells": [
  {
   "cell_type": "code",
   "execution_count": 9,
   "metadata": {},
   "outputs": [
    {
     "name": "stdout",
     "output_type": "stream",
     "text": [
      "\n",
      "emaPeriod = 42\n",
      "atrPeriod = 10\n",
      "candleSize = 120\n",
      "historySize = 200\n",
      "enterPeriods = 16\n",
      "exitDonchian = 31\n",
      "entryDonchian = 76\n",
      "exitAtrFactor = 0\n",
      "exitPersistency = 3\n",
      "\n"
     ]
    }
   ],
   "source": [
    "s = \"\"\"\n",
    "emaPeriod: 42,\n",
    "  atrPeriod: 10,\n",
    "  candleSize: 120,\n",
    "  historySize: 200,\n",
    "  enterPeriods: 16,\n",
    "  exitDonchian: 31,\n",
    "  entryDonchian: 76,\n",
    "  exitAtrFactor: 0,\n",
    "  exitPersistency: 3\n",
    "\"\"\"\n",
    "\n",
    "s\n",
    "\n",
    "result = s.replace(\":\", \" =\").replace(\",\", \"\").replace('  ', '')\n",
    "print(result)"
   ]
  },
  {
   "cell_type": "code",
   "execution_count": 10,
   "metadata": {},
   "outputs": [
    {
     "name": "stdout",
     "output_type": "stream",
     "text": [
      "\n",
      "emaPeriod = 23\n",
      "atrPeriod = 13\n",
      "candleSize = 120\n",
      "historySize = 200\n",
      "enterPeriods = 17\n",
      "exitDonchian = 104\n",
      "entryDonchian = 78\n",
      "exitAtrFactor = 0\n",
      "exitPersistency = 3\n",
      "\n"
     ]
    }
   ],
   "source": [
    "s = \"\"\"\n",
    "emaPeriod: 23,\n",
    "  atrPeriod: 13,\n",
    "  candleSize: 120,\n",
    "  historySize: 200,\n",
    "  enterPeriods: 17,\n",
    "  exitDonchian: 104,\n",
    "  entryDonchian: 78,\n",
    "  exitAtrFactor: 0,\n",
    "  exitPersistency: 3\n",
    "\"\"\"\n",
    "\n",
    "result = s.replace(\":\", \" =\").replace(\",\", \"\").replace('  ', '')\n",
    "print(result)"
   ]
  },
  {
   "cell_type": "code",
   "execution_count": null,
   "metadata": {},
   "outputs": [],
   "source": []
  }
 ],
 "metadata": {
  "kernelspec": {
   "display_name": "Python 3",
   "language": "python",
   "name": "python3"
  },
  "language_info": {
   "codemirror_mode": {
    "name": "ipython",
    "version": 3
   },
   "file_extension": ".py",
   "mimetype": "text/x-python",
   "name": "python",
   "nbconvert_exporter": "python",
   "pygments_lexer": "ipython3",
   "version": "3.6.8"
  }
 },
 "nbformat": 4,
 "nbformat_minor": 4
}
