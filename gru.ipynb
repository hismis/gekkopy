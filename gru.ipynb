{
 "cells": [
  {
   "cell_type": "code",
   "execution_count": 1,
   "metadata": {},
   "outputs": [
    {
     "name": "stdout",
     "output_type": "stream",
     "text": [
      "Populating the interactive namespace from numpy and matplotlib\n"
     ]
    }
   ],
   "source": [
    "%pylab inline\n",
    "%load_ext autoreload\n",
    "%autoreload 2\n",
    "from gekkolib import gekkoapi\n",
    "from model import preprocessing\n",
    "import datetime as dt\n",
    "import pandas as pd\n",
    "import numpy as np"
   ]
  },
  {
   "cell_type": "code",
   "execution_count": 2,
   "metadata": {},
   "outputs": [],
   "source": [
    "candles = gekkoapi.pull_candles('kraken', 'ETH', 'EUR', candlesize=60, date_start=dt.date(2019,6,1))"
   ]
  },
  {
   "cell_type": "code",
   "execution_count": 32,
   "metadata": {},
   "outputs": [
    {
     "data": {
      "text/html": [
       "<div>\n",
       "<style scoped>\n",
       "    .dataframe tbody tr th:only-of-type {\n",
       "        vertical-align: middle;\n",
       "    }\n",
       "\n",
       "    .dataframe tbody tr th {\n",
       "        vertical-align: top;\n",
       "    }\n",
       "\n",
       "    .dataframe thead th {\n",
       "        text-align: right;\n",
       "    }\n",
       "</style>\n",
       "<table border=\"1\" class=\"dataframe\">\n",
       "  <thead>\n",
       "    <tr style=\"text-align: right;\">\n",
       "      <th></th>\n",
       "      <th>close</th>\n",
       "      <th>high</th>\n",
       "      <th>low</th>\n",
       "      <th>open</th>\n",
       "      <th>start</th>\n",
       "      <th>trades</th>\n",
       "      <th>volume</th>\n",
       "      <th>vwp</th>\n",
       "      <th>target</th>\n",
       "    </tr>\n",
       "  </thead>\n",
       "  <tbody>\n",
       "    <tr>\n",
       "      <th>0</th>\n",
       "      <td>245.99</td>\n",
       "      <td>246.50</td>\n",
       "      <td>238.10</td>\n",
       "      <td>240.08</td>\n",
       "      <td>1559347200</td>\n",
       "      <td>1307</td>\n",
       "      <td>11278.088155</td>\n",
       "      <td>243.127195</td>\n",
       "      <td>NaN</td>\n",
       "    </tr>\n",
       "    <tr>\n",
       "      <th>1</th>\n",
       "      <td>243.25</td>\n",
       "      <td>245.99</td>\n",
       "      <td>241.34</td>\n",
       "      <td>245.99</td>\n",
       "      <td>1559350800</td>\n",
       "      <td>433</td>\n",
       "      <td>2439.148413</td>\n",
       "      <td>242.975890</td>\n",
       "      <td>NaN</td>\n",
       "    </tr>\n",
       "    <tr>\n",
       "      <th>2</th>\n",
       "      <td>242.44</td>\n",
       "      <td>243.71</td>\n",
       "      <td>240.22</td>\n",
       "      <td>243.71</td>\n",
       "      <td>1559354400</td>\n",
       "      <td>381</td>\n",
       "      <td>4444.997502</td>\n",
       "      <td>241.627850</td>\n",
       "      <td>NaN</td>\n",
       "    </tr>\n",
       "    <tr>\n",
       "      <th>3</th>\n",
       "      <td>241.63</td>\n",
       "      <td>243.56</td>\n",
       "      <td>241.56</td>\n",
       "      <td>242.44</td>\n",
       "      <td>1559358000</td>\n",
       "      <td>170</td>\n",
       "      <td>1137.545188</td>\n",
       "      <td>242.778161</td>\n",
       "      <td>NaN</td>\n",
       "    </tr>\n",
       "    <tr>\n",
       "      <th>4</th>\n",
       "      <td>242.14</td>\n",
       "      <td>242.47</td>\n",
       "      <td>240.02</td>\n",
       "      <td>241.59</td>\n",
       "      <td>1559361600</td>\n",
       "      <td>187</td>\n",
       "      <td>691.875461</td>\n",
       "      <td>241.298534</td>\n",
       "      <td>NaN</td>\n",
       "    </tr>\n",
       "  </tbody>\n",
       "</table>\n",
       "</div>"
      ],
      "text/plain": [
       "    close    high     low    open       start  trades        volume  \\\n",
       "0  245.99  246.50  238.10  240.08  1559347200    1307  11278.088155   \n",
       "1  243.25  245.99  241.34  245.99  1559350800     433   2439.148413   \n",
       "2  242.44  243.71  240.22  243.71  1559354400     381   4444.997502   \n",
       "3  241.63  243.56  241.56  242.44  1559358000     170   1137.545188   \n",
       "4  242.14  242.47  240.02  241.59  1559361600     187    691.875461   \n",
       "\n",
       "          vwp  target  \n",
       "0  243.127195     NaN  \n",
       "1  242.975890     NaN  \n",
       "2  241.627850     NaN  \n",
       "3  242.778161     NaN  \n",
       "4  241.298534     NaN  "
      ]
     },
     "execution_count": 32,
     "metadata": {},
     "output_type": "execute_result"
    }
   ],
   "source": [
    "candles.head()"
   ]
  },
  {
   "cell_type": "code",
   "execution_count": 46,
   "metadata": {},
   "outputs": [
    {
     "data": {
      "text/plain": [
       "(977, 9)"
      ]
     },
     "execution_count": 46,
     "metadata": {},
     "output_type": "execute_result"
    }
   ],
   "source": [
    "candles.shape"
   ]
  },
  {
   "cell_type": "code",
   "execution_count": 47,
   "metadata": {},
   "outputs": [],
   "source": [
    "candles['target'] = candles.close.rolling(20).apply(max, raw=True)"
   ]
  },
  {
   "cell_type": "code",
   "execution_count": 48,
   "metadata": {},
   "outputs": [],
   "source": [
    "windows, target = preprocessing.create_windows(candles, 20, 1, target='target')"
   ]
  },
  {
   "cell_type": "code",
   "execution_count": 49,
   "metadata": {},
   "outputs": [
    {
     "data": {
      "text/plain": [
       "(957, 20, 8)"
      ]
     },
     "execution_count": 49,
     "metadata": {},
     "output_type": "execute_result"
    }
   ],
   "source": [
    "windows.shape"
   ]
  },
  {
   "cell_type": "code",
   "execution_count": 50,
   "metadata": {},
   "outputs": [
    {
     "data": {
      "text/plain": [
       "(957,)"
      ]
     },
     "execution_count": 50,
     "metadata": {},
     "output_type": "execute_result"
    }
   ],
   "source": [
    "target.shape"
   ]
  },
  {
   "cell_type": "code",
   "execution_count": 51,
   "metadata": {},
   "outputs": [
    {
     "data": {
      "text/plain": [
       "array([[[  245.99      ,   246.5       ,   238.1       , ...,\n",
       "          1307.        , 11278.08815466,   243.12719499],\n",
       "        [  243.25      ,   245.99      ,   241.34      , ...,\n",
       "           433.        ,  2439.14841321,   242.97588962],\n",
       "        [  242.44      ,   243.71      ,   240.22      , ...,\n",
       "           381.        ,  4444.99750217,   241.62785009],\n",
       "        ...,\n",
       "        [  237.14      ,   239.27      ,   236.33      , ...,\n",
       "           336.        ,  1450.02888423,   237.19095475],\n",
       "        [  235.96      ,   237.49      ,   235.64      , ...,\n",
       "           254.        ,   768.97364547,   236.53512227],\n",
       "        [  236.55      ,   237.86      ,   234.76      , ...,\n",
       "           340.        ,  3189.1004207 ,   235.43593229]],\n",
       "\n",
       "       [[  243.25      ,   245.99      ,   241.34      , ...,\n",
       "           433.        ,  2439.14841321,   242.97588962],\n",
       "        [  242.44      ,   243.71      ,   240.22      , ...,\n",
       "           381.        ,  4444.99750217,   241.62785009],\n",
       "        [  241.63      ,   243.56      ,   241.56      , ...,\n",
       "           170.        ,  1137.54518768,   242.77816106],\n",
       "        ...,\n",
       "        [  235.96      ,   237.49      ,   235.64      , ...,\n",
       "           254.        ,   768.97364547,   236.53512227],\n",
       "        [  236.55      ,   237.86      ,   234.76      , ...,\n",
       "           340.        ,  3189.1004207 ,   235.43593229],\n",
       "        [  237.88      ,   239.        ,   236.62      , ...,\n",
       "           170.        ,   395.47024996,   238.2129544 ]],\n",
       "\n",
       "       [[  242.44      ,   243.71      ,   240.22      , ...,\n",
       "           381.        ,  4444.99750217,   241.62785009],\n",
       "        [  241.63      ,   243.56      ,   241.56      , ...,\n",
       "           170.        ,  1137.54518768,   242.77816106],\n",
       "        [  242.14      ,   242.47      ,   240.02      , ...,\n",
       "           187.        ,   691.87546132,   241.29853355],\n",
       "        ...,\n",
       "        [  236.55      ,   237.86      ,   234.76      , ...,\n",
       "           340.        ,  3189.1004207 ,   235.43593229],\n",
       "        [  237.88      ,   239.        ,   236.62      , ...,\n",
       "           170.        ,   395.47024996,   238.2129544 ],\n",
       "        [  240.64      ,   241.5       ,   237.99      , ...,\n",
       "           395.        ,  4255.41744377,   240.6199709 ]],\n",
       "\n",
       "       ...,\n",
       "\n",
       "       [[  241.95      ,   242.17      ,   239.92      , ...,\n",
       "           201.        ,   669.53255596,   241.26300922],\n",
       "        [  242.32      ,   242.76      ,   240.56      , ...,\n",
       "           341.        ,  1037.66095092,   241.30104929],\n",
       "        [  242.16      ,   243.95      ,   241.72      , ...,\n",
       "           323.        ,  1744.00835265,   242.72587198],\n",
       "        ...,\n",
       "        [  239.34      ,   241.        ,   236.97      , ...,\n",
       "           200.        ,  1039.52702161,   238.98374886],\n",
       "        [  239.21      ,   240.73      ,   238.35      , ...,\n",
       "           156.        ,  2008.57046426,   239.28023347],\n",
       "        [  238.17      ,   240.17      ,   237.99      , ...,\n",
       "            62.        ,    99.98850303,   238.89656403]],\n",
       "\n",
       "       [[  242.32      ,   242.76      ,   240.56      , ...,\n",
       "           341.        ,  1037.66095092,   241.30104929],\n",
       "        [  242.16      ,   243.95      ,   241.72      , ...,\n",
       "           323.        ,  1744.00835265,   242.72587198],\n",
       "        [  241.1       ,   242.66      ,   241.        , ...,\n",
       "           255.        ,   965.53596979,   241.66615085],\n",
       "        ...,\n",
       "        [  239.21      ,   240.73      ,   238.35      , ...,\n",
       "           156.        ,  2008.57046426,   239.28023347],\n",
       "        [  238.17      ,   240.17      ,   237.99      , ...,\n",
       "            62.        ,    99.98850303,   238.89656403],\n",
       "        [  237.7       ,   238.64      ,   236.95      , ...,\n",
       "           150.        ,   871.9084372 ,   237.39115053]],\n",
       "\n",
       "       [[  242.16      ,   243.95      ,   241.72      , ...,\n",
       "           323.        ,  1744.00835265,   242.72587198],\n",
       "        [  241.1       ,   242.66      ,   241.        , ...,\n",
       "           255.        ,   965.53596979,   241.66615085],\n",
       "        [  241.38      ,   242.39      ,   240.        , ...,\n",
       "           362.        ,  1468.7923092 ,   241.1159566 ],\n",
       "        ...,\n",
       "        [  238.17      ,   240.17      ,   237.99      , ...,\n",
       "            62.        ,    99.98850303,   238.89656403],\n",
       "        [  237.7       ,   238.64      ,   236.95      , ...,\n",
       "           150.        ,   871.9084372 ,   237.39115053],\n",
       "        [  239.17      ,   239.61      ,   237.63      , ...,\n",
       "            53.        ,   214.90614146,   238.82900119]]])"
      ]
     },
     "execution_count": 51,
     "metadata": {},
     "output_type": "execute_result"
    }
   ],
   "source": [
    "windows[:10]"
   ]
  },
  {
   "cell_type": "code",
   "execution_count": 52,
   "metadata": {},
   "outputs": [
    {
     "data": {
      "text/plain": [
       "(957, 20, 8)"
      ]
     },
     "execution_count": 52,
     "metadata": {},
     "output_type": "execute_result"
    }
   ],
   "source": [
    "windows.shape"
   ]
  },
  {
   "cell_type": "code",
   "execution_count": 56,
   "metadata": {},
   "outputs": [
    {
     "data": {
      "text/plain": [
       "(957, 160)"
      ]
     },
     "execution_count": 56,
     "metadata": {},
     "output_type": "execute_result"
    }
   ],
   "source": [
    "windows.reshape(957, -1).shape"
   ]
  }
 ],
 "metadata": {
  "kernelspec": {
   "display_name": "Python 3",
   "language": "python",
   "name": "python3"
  },
  "language_info": {
   "codemirror_mode": {
    "name": "ipython",
    "version": 3
   },
   "file_extension": ".py",
   "mimetype": "text/x-python",
   "name": "python",
   "nbconvert_exporter": "python",
   "pygments_lexer": "ipython3",
   "version": "3.7.3"
  }
 },
 "nbformat": 4,
 "nbformat_minor": 4
}
